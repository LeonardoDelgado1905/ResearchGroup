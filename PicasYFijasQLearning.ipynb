{
  "nbformat": 4,
  "nbformat_minor": 0,
  "metadata": {
    "colab": {
      "name": "PicasYFijasQLearning.ipynb",
      "provenance": [],
      "authorship_tag": "ABX9TyNa5EkVr4T3NfIzWYqFWqE2",
      "include_colab_link": true
    },
    "kernelspec": {
      "name": "python3",
      "display_name": "Python 3"
    }
  },
  "cells": [
    {
      "cell_type": "markdown",
      "metadata": {
        "id": "view-in-github",
        "colab_type": "text"
      },
      "source": [
        "<a href=\"https://colab.research.google.com/github/LeonardoDelgado1905/ResearchGroup/blob/main/PicasYFijasQLearning.ipynb\" target=\"_parent\"><img src=\"https://colab.research.google.com/assets/colab-badge.svg\" alt=\"Open In Colab\"/></a>"
      ]
    },
    {
      "cell_type": "code",
      "metadata": {
        "id": "LKw68X63aoc-"
      },
      "source": [
        "def calculateStatus(elements):\n",
        "  return (1, 1)\n",
        "\n",
        "def isValid(elements):\n",
        "  #No repeating Elements \n",
        "  a = elements[0]\n",
        "  b = elements[1]\n",
        "  c = elements[2]\n",
        "  d = elements[3]\n",
        "  if(a == b or a == c or a == d or b == c or b == d or c == d):\n",
        "    return False\n",
        "  return True\n",
        "class Number:\n",
        "  elements = 4*[0]\n",
        "  def __init__(self, ele):\n",
        "    self.elements = ele\n",
        "    # self.status = calculateStatus(self.elements)\n",
        "\n",
        "  def permutation(self, perm):\n",
        "    newElements = [self.elements[x] for x in perm]\n",
        "    self.elements = newElements\n",
        "    # self.status = calculatestatus(elements)\n",
        "  \n",
        "  def insert(self, insertions):\n",
        "    newElements = [i for i in self.elements]\n",
        "    for x, Y in insertions:  \n",
        "      newElements[x] = Y\n",
        "      if(isValid(newElements)):\n",
        "        self.elements[x] = Y"
      ],
      "execution_count": null,
      "outputs": []
    },
    {
      "cell_type": "code",
      "metadata": {
        "id": "MAMWD6lIvjGO"
      },
      "source": [
        "goal = Number([0, 1, 2, 3])\n",
        "\n",
        "\n",
        "agent = Number([9, 8, 7, 6])"
      ],
      "execution_count": null,
      "outputs": []
    },
    {
      "cell_type": "code",
      "metadata": {
        "id": "fdtzfRqpvszd",
        "colab": {
          "base_uri": "https://localhost:8080/"
        },
        "outputId": "cdf466f9-4bc8-4514-b93f-77bfa3b15a38"
      },
      "source": [
        "agent.insert([(0, 2)])\n",
        "agent.permutation([0, 1, 3, 2])\n",
        "agent.elements"
      ],
      "execution_count": null,
      "outputs": [
        {
          "output_type": "execute_result",
          "data": {
            "text/plain": [
              "[2, 8, 6, 7]"
            ]
          },
          "metadata": {
            "tags": []
          },
          "execution_count": 25
        }
      ]
    },
    {
      "cell_type": "code",
      "metadata": {
        "id": "_iof4mAeZUwY",
        "colab": {
          "base_uri": "https://localhost:8080/"
        },
        "outputId": "8b48cba6-9222-4110-feab-1fa6133afc0b"
      },
      "source": [
        "dic = {'a':35}\n",
        "\n",
        "\n",
        "dic['b'] = 80\n",
        "\n",
        "if('c' not in dic):\n",
        "  dic['c'] = 30\n",
        "\n",
        "dic['c']"
      ],
      "execution_count": null,
      "outputs": [
        {
          "output_type": "execute_result",
          "data": {
            "text/plain": [
              "30"
            ]
          },
          "metadata": {
            "tags": []
          },
          "execution_count": 27
        }
      ]
    },
    {
      "cell_type": "code",
      "metadata": {
        "id": "o3rJgpMLbl-s"
      },
      "source": [
        "import numpy as np\n",
        "import itertools as it"
      ],
      "execution_count": null,
      "outputs": []
    },
    {
      "cell_type": "code",
      "metadata": {
        "id": "rJ0sP4oeb89B",
        "colab": {
          "base_uri": "https://localhost:8080/"
        },
        "outputId": "f8168608-bf55-43eb-ffe8-7b4d9bdb24f9"
      },
      "source": [
        "R = {goal:100}\n",
        "\n",
        "def getReward(number):\n",
        "  if(number not in R):\n",
        "    return 0\n",
        "  return R[number]"
      ],
      "execution_count": null,
      "outputs": [
        {
          "output_type": "stream",
          "text": [
            "100\n"
          ],
          "name": "stdout"
        }
      ]
    },
    {
      "cell_type": "code",
      "metadata": {
        "id": "FTOnNzdSdQDB"
      },
      "source": [
        "goalState = (tuple(goal.elements), tuple([0, 1, 2, 3]), tuple([]))\n",
        "Q = {goalState : 100}\n",
        "\n",
        "def generateStateAction(number, permutations, insertions):\n",
        "  return (tuple(number.elements), tuple(permutations), tuple(insertions))\n",
        "\n",
        "def getQValue(state):\n",
        "  if(state not in Q):\n",
        "    return 0\n",
        "  return Q[state]\n",
        "\n",
        "def getBestActionValue(number):\n",
        "  for perm in permutations(it.number.elements):\n",
        "    for \n",
        "\n",
        "gamma = 0.8\n",
        "def update(number, permutations, insertions, gamma):\n"
      ],
      "execution_count": null,
      "outputs": []
    },
    {
      "cell_type": "code",
      "metadata": {
        "id": "KnQoUkyMe1m9",
        "colab": {
          "base_uri": "https://localhost:8080/"
        },
        "outputId": "73d9e3c2-cfaf-4812-88cc-e1f1bbf2f21e"
      },
      "source": [
        "getQValue(goal, [0, 1, 2, 3], [])"
      ],
      "execution_count": null,
      "outputs": [
        {
          "output_type": "execute_result",
          "data": {
            "text/plain": [
              "100"
            ]
          },
          "metadata": {
            "tags": []
          },
          "execution_count": 51
        }
      ]
    },
    {
      "cell_type": "code",
      "metadata": {
        "id": "m1bQnSVOg5i9"
      },
      "source": [
        ""
      ],
      "execution_count": null,
      "outputs": []
    }
  ]
}